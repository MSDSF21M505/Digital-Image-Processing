{
 "cells": [
  {
   "cell_type": "code",
   "execution_count": 23,
   "id": "7a8911d5",
   "metadata": {},
   "outputs": [],
   "source": [
    "import cv2\n",
    "import numpy as np\n",
    "import matplotlib.pyplot as plt\n",
    "import imageio as io"
   ]
  },
  {
   "cell_type": "code",
   "execution_count": 18,
   "id": "ed2080a7",
   "metadata": {},
   "outputs": [],
   "source": [
    "def lowpass_filter(shape, d0=160, n=2, u_k=0, v_k=0):\n",
    "\n",
    "\tP, Q = shape\n",
    "\t# Initialize filter with zeros\n",
    "\tH = np.zeros((P, Q))\n",
    "\n",
    "\t# Traverse through filter\n",
    "\tfor u in range(0, P):\n",
    "\t\tfor v in range(0, Q):\n",
    "\t\t\t# Get euclidean distance from point D(u,v) to the center\n",
    "\t\t\tD_uv = np.sqrt((u - P/2 + u_k)**2 + (v - Q/2 + v_k)**2)\n",
    "\n",
    "\t\t\t# Define lowpass transfer funtion according to filter type\n",
    "\n",
    "\t\t\tH[u, v] = 1/(1 + (D_uv/d0)**(2*n))\n",
    "\n",
    "\t\t\teli\n",
    "\n",
    "\treturn H"
   ]
  },
  {
   "cell_type": "code",
   "execution_count": 19,
   "id": "bd2ba599",
   "metadata": {},
   "outputs": [],
   "source": [
    "def highpass_filter(shape, d0=160, n=2, u_k=0, v_k=0):\n",
    "\t# Inverse of lowpass\n",
    "\tH = 1.0 - lowpass_filter(shape, d0, ftype, n, u_k, v_k)\n",
    "\treturn H"
   ]
  },
  {
   "cell_type": "code",
   "execution_count": 20,
   "id": "6bf513a5",
   "metadata": {},
   "outputs": [],
   "source": [
    "def notch_reject_filter(shape, d0=160, n=2, u_k=0, v_k=0):\n",
    "\t# Form product of highpass filters at position (-u_k, -v_k) and (u_k, v_k)\n",
    "\tH = highpass_filter(shape, d0, ftype, n, -u_k, -v_k) * highpass_filter(shape, d0, ftype, n, u_k, v_k)\n",
    "\treturn H"
   ]
  },
  {
   "cell_type": "code",
   "execution_count": 21,
   "id": "b4dae33b",
   "metadata": {},
   "outputs": [],
   "source": [
    "def notch_pass_filter(shape, d0=160, n=2, u_k=0, v_k=0):\n",
    "\t# Inverse of notch reject\n",
    "\tH = 1.0 - notch_reject_filter(shape, d0, ftype, n, u_k, v_k)\n",
    "\treturn H"
   ]
  },
  {
   "cell_type": "code",
   "execution_count": 22,
   "id": "2c326c72",
   "metadata": {},
   "outputs": [],
   "source": [
    "def filter_image_freq(img, d0=160, w=20, n=2, u_k=0, v_k=0):\n",
    "\n",
    "\t# Get padding parameters\n",
    "\tM, N = img.shape\n",
    "\tP = 2*M\n",
    "\tQ = 2*N\n",
    "\n",
    "\t# Take the fourier transform of the image, with padding to shape P X Q\n",
    "\tF = np.fft.fft2(img, s=(P,Q))\n",
    "\n",
    "\t# Shift the low frequencies to the center.\n",
    "\tF = np.fft.fftshift(F)\n",
    "\n",
    "\t# Get power spectrum of the image\n",
    "\tpow_spec = np.abs(F)**2\n",
    "\n",
    "\n",
    "\tH = notch_reject_filter(F.shape, d0, ftype, n, u_k, v_k)\n",
    "\n",
    "\t# Form product of image with filter\n",
    "\tG = F * H\n",
    "\n",
    "\t# Shift frequencies back\n",
    "\tG = np.fft.ifftshift(G)\n",
    "\n",
    "\t# Inverse fourier transform to get output image in spatial domain\n",
    "\tG = np.fft.ifft2(G)\n",
    "\n",
    "\t# Get real values\n",
    "\tG = np.abs(G)\n",
    "\n",
    "\t# Extract M x N image from top left quadrant\n",
    "\tG = G[0:M, 0:N]\n",
    "\n",
    "\t# Return output image, the filter used and the power spectrum of input image\n",
    "\treturn G, np.abs(H), np.log(pow_spec)"
   ]
  },
  {
   "cell_type": "code",
   "execution_count": 10,
   "id": "2a2d196f",
   "metadata": {},
   "outputs": [
    {
     "ename": "NameError",
     "evalue": "name 'cv2' is not defined",
     "output_type": "error",
     "traceback": [
      "\u001b[1;31m---------------------------------------------------------------------------\u001b[0m",
      "\u001b[1;31mNameError\u001b[0m                                 Traceback (most recent call last)",
      "\u001b[1;32mC:\\Users\\MUHAMM~1\\AppData\\Local\\Temp/ipykernel_3084/1853249018.py\u001b[0m in \u001b[0;36m<module>\u001b[1;34m\u001b[0m\n\u001b[1;32m----> 1\u001b[1;33m \u001b[0mimg2\u001b[0m \u001b[1;33m=\u001b[0m \u001b[0mcv2\u001b[0m\u001b[1;33m.\u001b[0m\u001b[0mimread\u001b[0m\u001b[1;33m(\u001b[0m\u001b[1;34m'Img-1.tif'\u001b[0m\u001b[1;33m,\u001b[0m \u001b[1;36m0\u001b[0m\u001b[1;33m)\u001b[0m\u001b[1;33m\u001b[0m\u001b[1;33m\u001b[0m\u001b[0m\n\u001b[0m\u001b[0;32m      2\u001b[0m \u001b[0mlema\u001b[0m\u001b[1;33m=\u001b[0m\u001b[0mfilter_image_freq\u001b[0m\u001b[1;33m(\u001b[0m\u001b[0mimg2\u001b[0m\u001b[1;33m,\u001b[0m\u001b[1;36m20\u001b[0m\u001b[1;33m,\u001b[0m\u001b[1;36m20\u001b[0m\u001b[1;33m,\u001b[0m\u001b[1;36m4\u001b[0m\u001b[1;33m,\u001b[0m\u001b[1;36m30\u001b[0m\u001b[1;33m,\u001b[0m\u001b[1;36m27\u001b[0m\u001b[1;33m)\u001b[0m\u001b[1;33m\u001b[0m\u001b[1;33m\u001b[0m\u001b[0m\n",
      "\u001b[1;31mNameError\u001b[0m: name 'cv2' is not defined"
     ]
    }
   ],
   "source": [
    "img2 = cv2.imread('Img-1.tif', 0)\n",
    "lema=filter_image_freq(img2,20,20,4,30,27)"
   ]
  }
 ],
 "metadata": {
  "kernelspec": {
   "display_name": "Python 3 (ipykernel)",
   "language": "python",
   "name": "python3"
  },
  "language_info": {
   "codemirror_mode": {
    "name": "ipython",
    "version": 3
   },
   "file_extension": ".py",
   "mimetype": "text/x-python",
   "name": "python",
   "nbconvert_exporter": "python",
   "pygments_lexer": "ipython3",
   "version": "3.8.12"
  }
 },
 "nbformat": 4,
 "nbformat_minor": 5
}
